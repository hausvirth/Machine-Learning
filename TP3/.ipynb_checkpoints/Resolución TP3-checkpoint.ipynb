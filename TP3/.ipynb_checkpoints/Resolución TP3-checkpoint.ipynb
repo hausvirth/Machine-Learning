{
 "cells": [
  {
   "cell_type": "markdown",
   "id": "f996d45a-6b46-4446-a9a6-fc85c9f5aa54",
   "metadata": {},
   "source": [
    "TP 3: Análisis Descriptivo y Predicción de \n",
    "Desocupació\n",
    "Fecha de entrega: 15 de noviembre de 2024\r\n",
    "Profesor: Walter Sosa Escudero\r\n",
    "Asistente: Tomás Pachec\r",
    "n"
   ]
  },
  {
   "cell_type": "markdown",
   "id": "5f4a1b54-7869-48fe-8eab-3571f04cd00e",
   "metadata": {},
   "source": [
    "La Encuesta Permanente de Hogares (EPH) es un programa nacional de producción sistemática y permanente de indicadores sociales que lleva a cabo el Instituto Nacional de \n",
    "Estadística y Censos (INDEC), que permite conocer las características sociodemográfica \r\n",
    "y socioeconómicas de la población. Uno de los indicadores mas valiosos sobre el merca o\r\n",
    "laboral que pueden obtenerse con los datos de esta encuesta es la tasa de desocupación.\r\n",
    "1. Utilizando información disponible en la pagina del INDEC, expliquen breeem nte\r\n",
    "como se identifica a las personas desocupadas."
   ]
  },
  {
   "cell_type": "markdown",
   "id": "0953f636-7589-4555-8fc8-837c938c8a9f",
   "metadata": {},
   "source": [
    "Ejercicio 2: Entrar a la página de INDEC y descarga la Base de datos.\n",
    "a) Cada grupo va a trabajar con un aglomerado distinto (nosotros somos grupo 8 - Tucumán). Quédense\r\n",
    "con las observaciones correspondientes a su aglomerado y unan ambos trimestres en una sola base."
   ]
  },
  {
   "cell_type": "code",
   "execution_count": null,
   "id": "b4127ff0-4ce9-46e7-bc32-dc6f9f3716a0",
   "metadata": {},
   "outputs": [],
   "source": [
    "import pandas as pd\n",
    "import os\n",
    "\n",
    "# Especifica la ruta a la carpeta donde guardaste los archivos\n",
    "carpeta = \"C:\\\\Users\\\\marti\\\\OneDrive\\\\Documentos\\\\GitHub\\\\Machine-Learning\\\\TP3\"\n",
    "\n",
    "# Define los nombres de los archivos\n",
    "archivo_dta = \"individual_T104.dta\"\n",
    "archivo_xls = \"usu_individual_T124.xlsx\"\n",
    "\n",
    "# Carga el archivo .dta\n",
    "datos_dta = pd.read_stata(os.path.join(carpeta, archivo_dta))\n",
    "\n",
    "# Carga el archivo .xls\n",
    "datos_xls = pd.read_excel(os.path.join(carpeta, archivo_xls))\n",
    "\n",
    "# Verifica los primeros registros de cada archivo para asegurarte de que se cargaron correctamente\n",
    "print(datos_dta.head())\n",
    "print(datos_xls.head())\n",
    "\n",
    "print(datos_dta.columns)\n",
    "print(datos_xls.columns)\n",
    "\n",
    "# Filtrar el DataFrame para quedarse solo con el aglomerado \"Gran Tucumán - Tafí Viejo\"\n",
    "datos_tucuman04 = datos_dta[datos_dta['aglomerado'] == \"Gran Tucumán - Tafí Viejo\"]\n",
    "\n",
    "datos_tucuman24 = datos_xls[datos_xls[\"AGLOMERADO\"]== 29 ]\n",
    "\n",
    "\n",
    "print(datos_tucuman04.columns)\n",
    "print(datos_tucuman24.columns)\n",
    "\n",
    "datos_tucuman04.columns = datos_tucuman04.columns.str.upper()\n",
    "datos_tucuman24.columns = datos_tucuman24.columns.str.upper()\n",
    "\n",
    "# Obtener todas las columnas de ambos DataFrames\n",
    "columnas_comunes = set(datos_tucuman04.columns).union(set(datos_tucuman24.columns))\n",
    "\n",
    "# Reindexar ambos DataFrames para tener las mismas columnas (y en el mismo orden)\n",
    "datos_tucuman04 = datos_tucuman04.reindex(columns=columnas_comunes)\n",
    "datos_tucuman24 = datos_tucuman24.reindex(columns=columnas_comunes)\n",
    "\n",
    "# Concatenar los DataFrames apilando uno debajo del otro\n",
    "datos_panel = pd.concat([datos_tucuman04, datos_tucuman24], axis=0)\n",
    "\n",
    "#Las volvemos a poner en el orden original para que sea mas sencilla su lectura\n",
    "orden_columnas = datos_xls.columns\n",
    "datos_panel = datos_panel[orden_columnas]"
   ]
  },
  {
   "cell_type": "markdown",
   "id": "0fc8c67f-a3f2-4b50-9d15-5854cb280fb6",
   "metadata": {},
   "source": [
    "b) Si hay observaciones con valores que no tienen sentido, descártenlas (por ejemplo, ingresos y edades negativos). Expliquen las decisiones tomadas."
   ]
  },
  {
   "cell_type": "code",
   "execution_count": null,
   "id": "4b026f65-6453-4ac5-b407-f1d868057ef0",
   "metadata": {},
   "outputs": [],
   "source": [
    "# Crear una lista para almacenar los resultados\n",
    "resultados_malos = []\n",
    "\n",
    "# Iterar por cada columna y obtener los valores únicos y su frecuencia\n",
    "for columna in datos_panel.columns:\n",
    "    conteo = datos_panel[columna].value_counts(dropna=False)  # Incluye NaN si hay\n",
    "    for valor, frecuencia in conteo.items():\n",
    "        resultados_malos.append({\n",
    "            'Variable': columna,\n",
    "            'Valor': valor,\n",
    "            'Frecuencia': frecuencia\n",
    "        })\n",
    "\n",
    "# Convertir la lista de resultados en un DataFrame\n",
    "resumen_df = pd.DataFrame(resultados_malos)\n",
    "\n",
    "# Mostrar el DataFrame con todos los valores y frecuencias\n",
    "import ace_tools as tools; tools.display_dataframe_to_user(name=\"Resumen de Valores y Frecuencia\", dataframe=resumen_df)\n",
    "\n",
    "# Definir las columnas de ingreso y la columna de edad\n",
    "columnas_ingreso = ['PP08D1', 'PP08D4', 'PP08F1', 'PP08F2', 'PP08J1', 'PP08J2', 'PP08J3']\n",
    "\n",
    "# Convertir columnas de ingreso y edad a numérico, forzando errores a NaN\n",
    "datos_panel['CH06'] = pd.to_numeric(datos_panel['CH06'], errors='coerce')\n",
    "for columna in columnas_ingreso:\n",
    "    datos_panel[columna] = pd.to_numeric(datos_panel[columna], errors='coerce')\n",
    "\n",
    "# Crear un filtro para asegurar que todos los montos de ingreso y edad sean no negativos o NaN\n",
    "filtro = (datos_panel['CH06'] >= 0) | (datos_panel['CH06'].isna())\n",
    "for columna in columnas_ingreso:\n",
    "    filtro &= (datos_panel[columna] >= 0) | (datos_panel[columna].isna())\n",
    "\n",
    "# Aplicar el filtro al DataFrame\n",
    "datos_panel_limpio = datos_panel[filtro]"
   ]
  },
  {
   "cell_type": "markdown",
   "id": "b840aae9-eab5-4e31-8f23-771904686795",
   "metadata": {},
   "source": [
    "c) Una vez hecha esa limpieza, realicen un gráfico de barras mostrando la composición por sexo para 2004 y 2024. Comenten los resultados"
   ]
  },
  {
   "cell_type": "code",
   "execution_count": null,
   "id": "04875b12-a58a-4377-b876-c059752d6a29",
   "metadata": {},
   "outputs": [],
   "source": [
    "import matplotlib.pyplot as plt\n",
    "\n",
    "# Filtrar los datos solo para los años 2004 y 2024\n",
    "datos_filtrados = datos_panel_limpio[datos_panel_limpio['ANO4'].isin([2004, 2024])]\n",
    "\n",
    "# Contar la cantidad de personas por año y sexo\n",
    "conteo_sexo = datos_filtrados.groupby(['ANO4', 'CH04']).size().unstack()\n",
    "\n",
    "# Crear el gráfico de barras\n",
    "conteo_sexo.plot(kind='bar', stacked=True)\n",
    "plt.title(\"Composición por Sexo en 2004 y 2024\")\n",
    "plt.xlabel(\"Año\")\n",
    "plt.ylabel(\"Cantidad de Personas\")\n",
    "plt.legend([\"Masculino\", \"Femenino\"], title=\"Sexo\")\n",
    "plt.xticks(rotation=0)\n",
    "plt.show()"
   ]
  }
 ],
 "metadata": {
  "kernelspec": {
   "display_name": "Python 3 (ipykernel)",
   "language": "python",
   "name": "python3"
  },
  "language_info": {
   "codemirror_mode": {
    "name": "ipython",
    "version": 3
   },
   "file_extension": ".py",
   "mimetype": "text/x-python",
   "name": "python",
   "nbconvert_exporter": "python",
   "pygments_lexer": "ipython3",
   "version": "3.12.4"
  }
 },
 "nbformat": 4,
 "nbformat_minor": 5
}
