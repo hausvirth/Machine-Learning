{
 "cells": [
  {
   "cell_type": "markdown",
   "metadata": {},
   "source": [
    "### <font color='red'>Nota: 8</font>\n",
    "Les resté la penalización por el tema del formato de entrega."
   ]
  },
  {
   "cell_type": "markdown",
   "metadata": {
    "collapsed": true,
    "id": "Dh8MkXaG-c9Y",
    "jupyter": {
     "outputs_hidden": true
    }
   },
   "source": [
    "# Machine Learning para Economistas\n",
    "\n",
    "## Trabajo Práctico 1"
   ]
  },
  {
   "cell_type": "markdown",
   "metadata": {
    "id": "RhBlm6mZ-c9e"
   },
   "source": [
    "### Reglas de formato y presentación\n",
    "- El trabajo debe estar bien comentado (utilizando #) para que el código sea fácil de entender por sus compañeros y profesores.\n",
    "\n",
    "- El mismo debe ser completado en este Jupyter Notebook y entregado como tal, es decir en un archivo .ipynb\n"
   ]
  },
  {
   "cell_type": "markdown",
   "metadata": {
    "id": "ZEjGaa4U-c9g"
   },
   "source": [
    "### Fecha de entrega:\n",
    "Viernes 4 de octubre a las 23:59hs"
   ]
  },
  {
   "cell_type": "markdown",
   "metadata": {
    "id": "N9TU2y7E-c9h"
   },
   "source": [
    "### Modalidad de entrega\n",
    "- Creen un respositorio de Github con su grupo para trabajar en las entregas.\n",
    "- Al finalizar el trabajo práctico deben hacer un último <i>commit</i> en su repositorio de GitHub con el mensaje “Entrega final del tp”. \n",
    "- Asegurense de haber creado una carpeta llamada TP1.\n",
    "- Tienen que completar con el link del repositorio en el Excel con los grupos: https://bit.ly/grupos_MLE\n",
    "- La última versión en el repositorio es la que será evaluada. Por lo que es importante que: \n",
    "    - No envien el correo hasta no haber terminado y estar seguros de que han hecho el <i>commit y push</i> a la versión final que quieren entregar.\n",
    "    - No hagan nuevos <i>push</i> despues de haber entregado su versión final. Esto generaría confusión acerca de que versión es la que quieren que se les corrija. "
   ]
  },
  {
   "cell_type": "markdown",
   "metadata": {
    "id": "ZXbrPraa-c9i"
   },
   "source": [
    "#### Ejercicio 1\n",
    "Este ejercicio simplemente busca repasar lo que aprendimos sobre definición de variables. Definir dos variables con un nombre combinado (al menos dos palabras), una que se pueda crear y otra que tenga un nombre inaceptable (genera error). Explicar por qué ocurre el error."
   ]
  },
  {
   "cell_type": "code",
   "execution_count": 2,
   "metadata": {
    "id": "mb7PkXfN-c9j"
   },
   "outputs": [
    {
     "ename": "SyntaxError",
     "evalue": "cannot assign to False (2336496848.py, line 6)",
     "output_type": "error",
     "traceback": [
      "\u001b[1;36m  Cell \u001b[1;32mIn[2], line 6\u001b[1;36m\u001b[0m\n\u001b[1;33m    False = \"b\"\u001b[0m\n\u001b[1;37m    ^\u001b[0m\n\u001b[1;31mSyntaxError\u001b[0m\u001b[1;31m:\u001b[0m cannot assign to False\n"
     ]
    }
   ],
   "source": [
    "#Caso A. Creo una variable cualquiera\n",
    "mi_variable = \"a\"\n",
    "print(mi_variable)\n",
    "\n",
    "#Caso B. Creo una variable no permitida. Esto sucede porque estamos utilizando un nombre no permitido por la herramienta\n",
    "False = \"b\"\n",
    "print(False)"
   ]
  },
  {
   "cell_type": "markdown",
   "metadata": {},
   "source": [
    "#### Ejercicio 2\n",
    "Importar módulos. Usando el módulo math impriman la tangente de 1. ¿Cuál es el resultado?\n",
    "Hagan este cálculo de dos formas: primero importando el módulo math y usando la función correspondiente y luego solo importando la función específica que precisan para el cálculo."
   ]
  },
  {
   "cell_type": "code",
   "execution_count": 4,
   "metadata": {},
   "outputs": [
    {
     "name": "stdout",
     "output_type": "stream",
     "text": [
      "Tangente de 1: 1.5574077246549023\n",
      "1.5574077246549023\n"
     ]
    }
   ],
   "source": [
    "import math\n",
    "\n",
    "# Calcular la tangente de 1 usando el módulo math\n",
    "resultado = math.tan(1)\n",
    "print(\"Tangente de 1:\", resultado)\n",
    "\n",
    "#Segunda forma\n",
    "from math import tan\n",
    "print(tan(1))"
   ]
  },
  {
   "cell_type": "markdown",
   "metadata": {
    "id": "GlNh0fyv-c9l"
   },
   "source": [
    "#### Ejercicio 3 \n",
    "Este ejercicio trata sobre lograr el intercambio de valores entre dos variables utilizando una variable temporal para hacerlo. Las variables temporales y la sustitución de valores termina siendo útil en algunos loops. Los pasos a seguir son: (a) definir variables A y B (cuyos valores buscaremos invertir); (b) definir una variable temporal que resguarde el valor de B; (c) sustitución (asignar B igual a A y también A igual al valor original de B); (d) imprimir valores para verificar."
   ]
  },
  {
   "cell_type": "code",
   "execution_count": 6,
   "metadata": {
    "id": "uWalSYFC-c9m"
   },
   "outputs": [
    {
     "name": "stdout",
     "output_type": "stream",
     "text": [
      "Valores originales:\n",
      "a = 1\n",
      "b = 2\n",
      "Valores después del intercambio:\n",
      "a = 2\n",
      "b = 1\n"
     ]
    }
   ],
   "source": [
    "#Primero creamos las variables a y b, y les asignamos dos valores aleatorios. \n",
    "a = 1\n",
    "b = 2\n",
    "\n",
    "print(\"Valores originales:\")\n",
    "print(\"a =\", a)\n",
    "print(\"b =\", b)\n",
    "\n",
    "#Luego, definimos lo que es una variable temporal. \n",
    "temporal = b\n",
    "\n",
    "b = a\n",
    "a = temporal\n",
    "\n",
    "print(\"Valores después del intercambio:\")\n",
    "print(\"a =\", a)\n",
    "print(\"b =\", b)\n"
   ]
  },
  {
   "cell_type": "markdown",
   "metadata": {
    "id": "wXhAaRyN-c9p"
   },
   "source": [
    "#### Ejercicio 4\n",
    "En este ejercicio se busca poner en práctica el uso de range() en un for loop. \n",
    "\n",
    "Construir un for loop usando un range(). El range debe ser entre los valores que quieran (con una diferencia mínima de 15 entre start y stop), en incrementos de 3 unidades. Dentro del loop, implementar una sentencia condicional que imprima una leyenda indicando si el input es par o impar."
   ]
  },
  {
   "cell_type": "code",
   "execution_count": 8,
   "metadata": {
    "id": "_oE5sG0c-c9q"
   },
   "outputs": [
    {
     "name": "stdout",
     "output_type": "stream",
     "text": [
      "10 es par\n",
      "13 es impar\n",
      "16 es par\n",
      "19 es impar\n"
     ]
    }
   ],
   "source": [
    "# Paso 1: Crear el rango con una diferencia mínima de 15 entre start y stop, en incrementos de 3\n",
    "for num in range(10, 20, 3):  # Esto irá desde 10 hasta 30, en incrementos de 3\n",
    "    \n",
    "# Paso 2: Implementar la sentencia condicional para verificar si es par o impar\n",
    "    if num % 2 == 0:\n",
    "        print(f\"{num} es par\")\n",
    "    else:\n",
    "        print(f\"{num} es impar\")"
   ]
  },
  {
   "cell_type": "markdown",
   "metadata": {
    "id": "h3g5bXUB-c9u"
   },
   "source": [
    "#### Ejercicio 5\n",
    "Para practicar el uso de condiciones lógicas y la definición de funciones, construir una función con una sentencia condicional que verifique si un año es bisiesto o no. Para que un año sea bisiesto debe cumplir una de dos condiciones:\n",
    "\n",
    "(a) que sea divisible por 400; o\n",
    "\n",
    "(b) que sea divisible por 4 y no sea divisible por 100\n",
    "\n",
    "Notar que son dos condiciones, donde la segunda condición tiene dos componentes. Prueben la función con 3 valores para verificar que funcione."
   ]
  },
  {
   "cell_type": "code",
   "execution_count": 10,
   "metadata": {
    "id": "7_MnILdz-c9v"
   },
   "outputs": [
    {
     "name": "stdout",
     "output_type": "stream",
     "text": [
      "True\n",
      "False\n",
      "True\n"
     ]
    }
   ],
   "source": [
    "# Definir la función que verifica si un año es bisiesto\n",
    "def es_bisiesto(año):\n",
    "    # Condición (a): divisible por 400\n",
    "    if año % 400 == 0:\n",
    "        return True\n",
    "    # Condición (b): divisible por 4 y no divisible por 100\n",
    "    elif año % 4 == 0 and año % 100 != 0:\n",
    "        return True\n",
    "    # Si no cumple ninguna de las dos condiciones, no es bisiesto\n",
    "    else:\n",
    "        return False\n",
    "\n",
    "# Probar la función con 3 valores\n",
    "print(es_bisiesto(2020))  # True, es bisiesto\n",
    "print(es_bisiesto(1900))  # False, no es bisiesto (divisible por 100 pero no por 400)\n",
    "print(es_bisiesto(2000))  # True, es bisiesto (divisible por 400)\n"
   ]
  },
  {
   "cell_type": "markdown",
   "metadata": {
    "collapsed": true,
    "id": "P3a7bJkd-c9w",
    "jupyter": {
     "outputs_hidden": true
    }
   },
   "source": [
    "#### Ejercicio 6 \n",
    "Pongamos en práctica identificar el type() de cada variable. A continuación tenemos una lista con elementos de diferentes tipos. Construyan un for loop que itere sobre la lista e imprima un cartel indicando el tipo de dato u objeto que hay en cada caso."
   ]
  },
  {
   "cell_type": "code",
   "execution_count": 12,
   "metadata": {
    "id": "jDf4d_Wr-c9w"
   },
   "outputs": [],
   "source": [
    "mi_lista = [10, 34.5, 99999, 'abc', [1,2,3], ('ARG', 1810), {'pob': 45}, True]"
   ]
  },
  {
   "cell_type": "code",
   "execution_count": 14,
   "metadata": {
    "id": "SAJgEiNEFQAS"
   },
   "outputs": [
    {
     "name": "stdout",
     "output_type": "stream",
     "text": [
      "El elemento 10 es de tipo <class 'int'>\n",
      "El elemento 34.5 es de tipo <class 'float'>\n",
      "El elemento 99999 es de tipo <class 'int'>\n",
      "El elemento abc es de tipo <class 'str'>\n",
      "El elemento [1, 2, 3] es de tipo <class 'list'>\n",
      "El elemento ('ARG', 1810) es de tipo <class 'tuple'>\n",
      "El elemento {'pob': 45} es de tipo <class 'dict'>\n",
      "El elemento True es de tipo <class 'bool'>\n"
     ]
    }
   ],
   "source": [
    "# Bucle for que itera sobre cada elemento de la lista\n",
    "for elemento in mi_lista:\n",
    "    print(f\"El elemento {elemento} es de tipo {type(elemento)}\")"
   ]
  },
  {
   "cell_type": "markdown",
   "metadata": {
    "id": "y1lncitl-c9x"
   },
   "source": [
    "#### Ejercicio 7\n",
    "Ahora definan ustedes una nueva lista, en la que los primeros cuatro elementos sean palabras (strings), el quinto elemento no sea string, y el sexto sea string. Construyan un for loop que corra por la lista y que imprima la palabra y la longitud de la misma. Que el loop contenga una sentencia condicional que imprima un cartel \"Elemento no es un string: < el elemento > | < class del elemento >\" para los casos dónde el elemento evaluado no sea string."
   ]
  },
  {
   "cell_type": "code",
   "execution_count": 16,
   "metadata": {
    "id": "bFOk9Os0-c9x"
   },
   "outputs": [
    {
     "name": "stdout",
     "output_type": "stream",
     "text": [
      "'uno' tiene 3 caracteres.\n",
      "'dos' tiene 3 caracteres.\n",
      "'tres' tiene 4 caracteres.\n",
      "'cuatro' tiene 6 caracteres.\n",
      "No es un string: 5 | <class 'int'>\n",
      "'seis' tiene 4 caracteres.\n"
     ]
    }
   ],
   "source": [
    "#Defino nueva lista\n",
    "mi_lista = [\"uno\", \"dos\", \"tres\", \"cuatro\", 5, \"seis\"]\n",
    "# Bucle \n",
    "for elemento in mi_lista:\n",
    "    # Verificar si el elemento es un string\n",
    "    if isinstance(elemento, str):\n",
    "        # Imprimir la palabra y su longitud\n",
    "        print(f\"'{elemento}' tiene {len(elemento)} caracteres.\")\n",
    "    else:\n",
    "        # Imprimir cartel si no es un string\n",
    "        print(f\"No es un string: {elemento} | {type(elemento)}\")"
   ]
  },
  {
   "cell_type": "markdown",
   "metadata": {
    "id": "PUpxDz72-c9x"
   },
   "source": [
    "#### Ejercicio 8\n",
    "Argentina tiene una representación legislativa proporcional en la cual la cantidad de diputados se debería ajustar según el tamaño de población de cada provincia. Otra característica de la representación legislativa del país es que hay una cantidad mínima de diputados por provincia (5). Esto genera un desbalance en la cantidad de ciudadanos por cada representante en el Congreso entre provincias.\n",
    "\n",
    "A continuación preparamos algunos ejemplos, dividiendo la población de cada provincia (según estimación para el 2022) por la cantidad de representantes en el Congreso para esa misma jurisdicción. También armamos el equivalente para el total país y una lista con los valores provinciales.\n",
    "\n",
    "En este ejercicio les pedimos que construyan un for loop que itere sobre el diccionario definido y compare cada valor provincial contra el valor de proporcionalidad directa (la variable argentina). El loop debe imprimir una leyenda que indique si la provincia está sobrerepresentada, subrepresentada o con representación proporcional. Además, queremos que el mismo loop compare los valores de las provincias sobrerepresentadas y que guarde el valor de la provincia con mayor sobrerepresentación. Luego del loop impriman este valor así podemos ver que haya funcionado.\n",
    "\n",
    "Fuente para población: https://es.wikipedia.org/wiki/Demograf%C3%ADa_de_Argentina\n",
    "\n",
    "Fuente para representantes: https://es.wikipedia.org/wiki/C%C3%A1mara_de_Diputados_de_la_Naci%C3%B3n_Argentina"
   ]
  },
  {
   "cell_type": "code",
   "execution_count": 6,
   "metadata": {
    "id": "hd8Z5AHs-c9y"
   },
   "outputs": [],
   "source": [
    "# Valor de referencia: proporcionalidad\n",
    "argentina = 46044703 / 257\n",
    "\n",
    "# Creamos variables para una selección de jurisdicciones\n",
    "cordoba = 3978984 / 18\n",
    "santa_fe = 3556522 / 19\n",
    "mendoza = 2014533 / 10\n",
    "buenos_aires = 17569053 / 70\n",
    "entre_rios =  1426426 / 9\n",
    "santa_cruz = 333473 / 5\n",
    "formosa = 606041 / 5\n",
    "\n",
    "# Definimos el diccionario para iterar\n",
    "dict_provincias = {\n",
    "    \"Córdoba\": cordoba,\n",
    "    \"Santa Fe\": santa_fe,\n",
    "    \"Mendoza\": mendoza,\n",
    "    \"Buenos Aires\": buenos_aires,\n",
    "    \"Entre Ríos\": entre_rios,\n",
    "    \"Santa Cruz\": santa_cruz,\n",
    "    \"Formosa\": formosa\n",
    "}"
   ]
  },
  {
   "cell_type": "code",
   "execution_count": 8,
   "metadata": {
    "id": "fsEHnxiY-c9y",
    "scrolled": true
   },
   "outputs": [
    {
     "name": "stdout",
     "output_type": "stream",
     "text": [
      "Córdoba está subrerepresentada\n",
      "Santa Fe está subrerepresentada\n",
      "Mendoza está subrerepresentada\n",
      "Buenos Aires está subrerepresentada\n",
      "Entre Ríos está sobrerepresentada\n",
      "Santa Cruz está sobrerepresentada\n",
      "Formosa está sobrerepresentada\n",
      "La provincia con mayor sobrerepresentación tiene un diputado cada 66695 habitantes\n"
     ]
    }
   ],
   "source": [
    "\n",
    "# Defino lista vacía para ir agregando los valores de las provincias sobrerepresentadas\n",
    "val_prov_sobre = []\n",
    "\n",
    "# Itero el diccionario con un for loop:\n",
    "for provincia in dict_provincias: #accedo a cada clave. si hago dict_provincias[provincia] accedo al valor de esa clave. \n",
    "    if dict_provincias[provincia] < argentina: \n",
    "        # una provincia está sobrerepresentada si tiene un diputado cada menos cantidad de personas que la que lo tiene el país. \n",
    "        # ejemplo: el pais tiene un diputado cada 179k de personas. si una provincia tiene un diputado cada 100k, está sobrerepresentada. \n",
    "        print(provincia, \"está sobrerepresentada\")\n",
    "        val_prov_sobre. append(dict_provincias[provincia]) #agrego a la lista donde guardo un diputado cada X gente de las provincia sobrerepresentadas\n",
    "    elif dict_provincias[provincia] > argentina:\n",
    "        # una provincia está subrerepresentada si tiene un diputado cada mas cantidad de personas que la que lo tiene el país.\n",
    "        print(provincia, \"está subrerepresentada\")\n",
    "    else:\n",
    "        print(provincia, \"tiene representación proporcional\")\n",
    "\n",
    "\n",
    "print(\"La provincia con mayor sobrerepresentación tiene un diputado cada\", round(min(val_prov_sobre)), \"habitantes\") \n",
    " \n",
    "# Faltaria imprimir cual es la provincia con mas subrepresentacion. "
   ]
  },
  {
   "cell_type": "markdown",
   "metadata": {
    "id": "GokZe5tV-c9z"
   },
   "source": [
    "#### Ejercicio 9\n",
    "Si buscáramos minimizar la subrepresentación de la provincia de Buenos Aires, ¿cuántos representantes debería tener según el Censo 2022? Usemos el mismo criterio de sub/sobrerepresentacion que en el ejercicio anterior: población sobre cantidad de representantes.\n",
    "\n",
    "Para responder esta pregunta construyan un while loop que incremente de a uno la cantidad de representantes de la Provincia hasta minimizar la subrepresentación. En cada iteración impriman un cartel que diga: \"Se agregó un representante, el total ahora es X\" dónde X es el número de representantes simulado."
   ]
  },
  {
   "cell_type": "code",
   "execution_count": 7,
   "metadata": {
    "id": "x9DvuXa_-c9z"
   },
   "outputs": [],
   "source": [
    "# Estos son los valores de la provincia\n",
    "representantes_pba = 70\n",
    "poblacion2010_pba = 17594428\n",
    "\n",
    "\n",
    "# Y el valor de referencia nacional\n",
    "argentina = 46044703 / 257\n"
   ]
  },
  {
   "cell_type": "code",
   "execution_count": 39,
   "metadata": {},
   "outputs": [
    {
     "name": "stdout",
     "output_type": "stream",
     "text": [
      "Se agregó un representante, el total ahora es: 71\n",
      "Se agregó un representante, el total ahora es: 72\n",
      "Se agregó un representante, el total ahora es: 73\n",
      "Se agregó un representante, el total ahora es: 74\n",
      "Se agregó un representante, el total ahora es: 75\n",
      "Se agregó un representante, el total ahora es: 76\n",
      "Se agregó un representante, el total ahora es: 77\n",
      "Se agregó un representante, el total ahora es: 78\n",
      "Se agregó un representante, el total ahora es: 79\n",
      "Se agregó un representante, el total ahora es: 80\n",
      "Se agregó un representante, el total ahora es: 81\n",
      "Se agregó un representante, el total ahora es: 82\n",
      "Se agregó un representante, el total ahora es: 83\n",
      "Se agregó un representante, el total ahora es: 84\n",
      "Se agregó un representante, el total ahora es: 85\n",
      "Se agregó un representante, el total ahora es: 86\n",
      "Se agregó un representante, el total ahora es: 87\n",
      "Se agregó un representante, el total ahora es: 88\n",
      "Se agregó un representante, el total ahora es: 89\n",
      "Se agregó un representante, el total ahora es: 90\n",
      "Se agregó un representante, el total ahora es: 91\n",
      "Se agregó un representante, el total ahora es: 92\n",
      "Se agregó un representante, el total ahora es: 93\n",
      "Se agregó un representante, el total ahora es: 94\n",
      "Se agregó un representante, el total ahora es: 95\n",
      "Se agregó un representante, el total ahora es: 96\n",
      "Se agregó un representante, el total ahora es: 97\n",
      "Se agregó un representante, el total ahora es: 98\n"
     ]
    }
   ],
   "source": [
    "# Defino la variable para ir sumando de a uno la cantidad de representantes de la Provincia\n",
    "i = 1\n",
    "\n",
    "# While loop: le sumo 1 a los representantes y veo si PBA sigue estando subrepresentada. \n",
    "# Paro cuando deje de estar subrepresentada. \n",
    "while (poblacion2010_pba)/(representantes_pba + i) >= argentina:\n",
    "    print(\"Se agregó un representante, el total ahora es:\", representantes_pba + i)\n",
    "    i = i + 1 "
   ]
  },
  {
   "cell_type": "markdown",
   "metadata": {},
   "source": [
    "#### Ejercicio 10"
   ]
  },
  {
   "cell_type": "markdown",
   "metadata": {},
   "source": [
    "Construyan una función llamada 'suma' que tome una cantidad variable de parámetros y devuelva el resultado de la suma. Ayuda: miren los ejercicios que hay al final de la clase 1."
   ]
  },
  {
   "cell_type": "code",
   "execution_count": 10,
   "metadata": {},
   "outputs": [
    {
     "data": {
      "text/plain": [
       "911199"
      ]
     },
     "execution_count": 10,
     "metadata": {},
     "output_type": "execute_result"
    }
   ],
   "source": [
    "def suma(*params): \n",
    "    # *params nos dice que no sabemos a priori cuantos parametros vamos a darle. podría ser suma(2,3) o suma (2,3,45)\n",
    "    suma = 0 # creo una variable para contabilizar. la empiezo en cero y voy sumandole segun los parametros que tengamos. \n",
    "    for i in params: # a suma le voy sumando cada parametro. uso un loop for porque no sé cuantos parametros tengo. \n",
    "        suma = suma + i\n",
    "    return suma \n",
    "\n",
    "# Verifiquemos que funciona: \n",
    "\n",
    "# Tienen que poner print para que imprima los tres resultados\n",
    "suma(2,31) \n",
    "suma(1,2,3) \n",
    "suma(10,35,76,38,90,76,83,2029, 908762)"
   ]
  },
  {
   "cell_type": "code",
   "execution_count": 14,
   "metadata": {},
   "outputs": [
    {
     "name": "stdout",
     "output_type": "stream",
     "text": [
      "33\n",
      "6\n",
      "911199\n"
     ]
    }
   ],
   "source": [
    "# Tambien podrian haber hecho\n",
    "def suma(*params): \n",
    "    return(sum(params))\n",
    "\n",
    "print(suma(2,31))\n",
    "print(suma(1,2,3)) \n",
    "print(suma(10,35,76,38,90,76,83,2029, 908762))"
   ]
  }
 ],
 "metadata": {
  "anaconda-cloud": {},
  "colab": {
   "name": "TP1 - Parte 1.ipynb",
   "provenance": []
  },
  "kernelspec": {
   "display_name": "Python 3 (ipykernel)",
   "language": "python",
   "name": "python3"
  },
  "language_info": {
   "codemirror_mode": {
    "name": "ipython",
    "version": 3
   },
   "file_extension": ".py",
   "mimetype": "text/x-python",
   "name": "python",
   "nbconvert_exporter": "python",
   "pygments_lexer": "ipython3",
   "version": "3.11.7"
  }
 },
 "nbformat": 4,
 "nbformat_minor": 4
}
