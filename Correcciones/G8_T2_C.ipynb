{
 "cells": [
  {
   "cell_type": "markdown",
   "metadata": {},
   "source": [
    "### <font color='red'>Nota: 10</font>"
   ]
  },
  {
   "cell_type": "markdown",
   "metadata": {
    "collapsed": true,
    "id": "Dh8MkXaG-c9Y",
    "jupyter": {
     "outputs_hidden": true
    }
   },
   "source": [
    "# Machine Learning para Economistas\n",
    "\n",
    "## Trabajo Práctico 2"
   ]
  },
  {
   "cell_type": "markdown",
   "metadata": {
    "id": "RhBlm6mZ-c9e"
   },
   "source": [
    "### Reglas de formato y presentación\n",
    "- El trabajo debe estar bien comentado (utilizando #) para que el código sea fácil de entender por sus compañeros y profesores.\n",
    "\n",
    "- El mismo debe ser completado en este Jupyter Notebook y entregado como tal, es decir en un archivo .ipynb\n"
   ]
  },
  {
   "cell_type": "markdown",
   "metadata": {
    "id": "ZEjGaa4U-c9g"
   },
   "source": [
    "### Fecha de entrega:\n",
    "Miércoles 16 de octubre a las 23:59hs"
   ]
  },
  {
   "cell_type": "markdown",
   "metadata": {
    "id": "N9TU2y7E-c9h"
   },
   "source": [
    "### Modalidad de entrega\n",
    "- Al finalizar el trabajo práctico deben hacer un último <i>commit</i> en su repositorio de GitHub con el mensaje “Entrega final del tp”. \n",
    "- Asegurense de haber creado una carpeta llamada TP2\n",
    "- La última versión en el repositorio es la que será evaluada. Por lo que es importante que: \n",
    "    - No hagan nuevos <i>push</i> despues de haber entregado su versión final. Esto generaría confusión acerca de que versión es la que quieren que se les corrija. "
   ]
  },
  {
   "cell_type": "markdown",
   "metadata": {},
   "source": [
    "### Parte A"
   ]
  },
  {
   "cell_type": "markdown",
   "metadata": {
    "id": "ZXbrPraa-c9i"
   },
   "source": [
    "#### Ejercicio 1\n",
    "Usando la API de Mercado Libre, obtener los ítems de una consulta de búsqueda. Pueden buscar cualquier producto de su interés."
   ]
  },
  {
   "cell_type": "code",
   "execution_count": 2,
   "metadata": {},
   "outputs": [
    {
     "name": "stdout",
     "output_type": "stream",
     "text": [
      "Requirement already satisfied: requests in /opt/anaconda3/lib/python3.11/site-packages (2.31.0)\n",
      "Requirement already satisfied: charset-normalizer<4,>=2 in /opt/anaconda3/lib/python3.11/site-packages (from requests) (2.0.4)\n",
      "Requirement already satisfied: idna<4,>=2.5 in /opt/anaconda3/lib/python3.11/site-packages (from requests) (3.4)\n",
      "Requirement already satisfied: urllib3<3,>=1.21.1 in /opt/anaconda3/lib/python3.11/site-packages (from requests) (2.0.7)\n",
      "Requirement already satisfied: certifi>=2017.4.17 in /opt/anaconda3/lib/python3.11/site-packages (from requests) (2024.2.2)\n",
      "Collecting BeautifulSoup\n",
      "  Downloading BeautifulSoup-3.2.2.tar.gz (32 kB)\n",
      "  Preparing metadata (setup.py) ... \u001b[?25lerror\n",
      "  \u001b[1;31merror\u001b[0m: \u001b[1msubprocess-exited-with-error\u001b[0m\n",
      "  \n",
      "  \u001b[31m×\u001b[0m \u001b[32mpython setup.py egg_info\u001b[0m did not run successfully.\n",
      "  \u001b[31m│\u001b[0m exit code: \u001b[1;36m1\u001b[0m\n",
      "  \u001b[31m╰─>\u001b[0m \u001b[31m[7 lines of output]\u001b[0m\n",
      "  \u001b[31m   \u001b[0m Traceback (most recent call last):\n",
      "  \u001b[31m   \u001b[0m   File \"<string>\", line 2, in <module>\n",
      "  \u001b[31m   \u001b[0m   File \"<pip-setuptools-caller>\", line 34, in <module>\n",
      "  \u001b[31m   \u001b[0m   File \"/private/var/folders/_t/mb603w6j5pnb26rgk4q_j3_m0000gn/T/pip-install-7__indsj/beautifulsoup_caba0823d31b47f09d2894c1d8d46a58/setup.py\", line 3\n",
      "  \u001b[31m   \u001b[0m     \"You're trying to run a very old release of Beautiful Soup under Python 3. This will not work.\"<>\"Please use Beautiful Soup 4, available through the pip package 'beautifulsoup4'.\"\n",
      "  \u001b[31m   \u001b[0m                                                                                                    ^^\n",
      "  \u001b[31m   \u001b[0m SyntaxError: invalid syntax\n",
      "  \u001b[31m   \u001b[0m \u001b[31m[end of output]\u001b[0m\n",
      "  \n",
      "  \u001b[1;35mnote\u001b[0m: This error originates from a subprocess, and is likely not a problem with pip.\n",
      "\u001b[1;31merror\u001b[0m: \u001b[1mmetadata-generation-failed\u001b[0m\n",
      "\n",
      "\u001b[31m×\u001b[0m Encountered error while generating package metadata.\n",
      "\u001b[31m╰─>\u001b[0m See above for output.\n",
      "\n",
      "\u001b[1;35mnote\u001b[0m: This is an issue with the package mentioned above, not pip.\n",
      "\u001b[1;36mhint\u001b[0m: See above for details.\n",
      "\u001b[?25hRequirement already satisfied: pandas in /opt/anaconda3/lib/python3.11/site-packages (2.1.4)\n",
      "Requirement already satisfied: numpy<2,>=1.23.2 in /opt/anaconda3/lib/python3.11/site-packages (from pandas) (1.26.4)\n",
      "Requirement already satisfied: python-dateutil>=2.8.2 in /opt/anaconda3/lib/python3.11/site-packages (from pandas) (2.8.2)\n",
      "Requirement already satisfied: pytz>=2020.1 in /opt/anaconda3/lib/python3.11/site-packages (from pandas) (2023.3.post1)\n",
      "Requirement already satisfied: tzdata>=2022.1 in /opt/anaconda3/lib/python3.11/site-packages (from pandas) (2023.3)\n",
      "Requirement already satisfied: six>=1.5 in /opt/anaconda3/lib/python3.11/site-packages (from python-dateutil>=2.8.2->pandas) (1.16.0)\n"
     ]
    }
   ],
   "source": [
    "#Primero que nada, instalamos las librerías para realizar los ejercicios. \n",
    "!pip install requests \n",
    "!pip install BeautifulSoup \n",
    "!pip install pandas\n",
    "\n",
    "import requests #html requestor\n",
    "from bs4 import BeautifulSoup #html parser\n",
    "import pandas as pd #dataframe manipulator"
   ]
  },
  {
   "cell_type": "code",
   "execution_count": 3,
   "metadata": {},
   "outputs": [],
   "source": [
    "# Para este ejercicio puntual, utilizaremos una API para consultar por \"perfumes de mujer\" a Mercado Libre. \n",
    "# Por empezar, sabemos que tenemos que seguir este formato:\n",
    "# https://api.mercadolibre.com/sites/$SITE_ID/search?q=nombre%20item\n",
    "\n",
    "# Donde:\n",
    "# $SITE_ID: MLA (Mercado Libre) \n",
    "# item: item a buscar. (reemplazamos los espacios con %20)\n",
    "\n",
    "buscar = \"perfume de mujer\"\n",
    "url = \"https://api.mercadolibre.com/sites/{}/search?q={}\".format(\"MLA\", buscar.replace(\" \", \"%20\"))"
   ]
  },
  {
   "cell_type": "code",
   "execution_count": 6,
   "metadata": {},
   "outputs": [
    {
     "name": "stdout",
     "output_type": "stream",
     "text": [
      "<Response [200]>\n"
     ]
    }
   ],
   "source": [
    "# Hacemos el pedido o request y obtenemos la response\n",
    "response = requests.request(\"GET\", url)\n",
    "print(response) # correcto"
   ]
  },
  {
   "cell_type": "code",
   "execution_count": 10,
   "metadata": {},
   "outputs": [],
   "source": [
    "#aquí guardamos toda la data en un diccionario para poder manipularla. \n",
    "data = response.json()"
   ]
  },
  {
   "cell_type": "markdown",
   "metadata": {},
   "source": [
    "#### Ejercicio 2\n",
    "Guarden los precios de los ítems obtenidos en un dataframe y calculen el precio promedio, el mínimo y el máximo. "
   ]
  },
  {
   "cell_type": "code",
   "execution_count": 12,
   "metadata": {},
   "outputs": [
    {
     "name": "stdout",
     "output_type": "stream",
     "text": [
      "Hay data de 48 productos\n",
      "El precio promedio es $ 45384\n",
      "El precio mínimo es $ 6052\n",
      "El precio máximo es $ 212000\n"
     ]
    }
   ],
   "source": [
    "# Los productos estan en la key 'results'.\n",
    "# Primero vemos cuantos productos tenemos:\n",
    "print(\"Hay data de\", len(data[\"results\"]), \"productos\") \n",
    "\n",
    "#Genero una lista con la data de todos los productos\n",
    "productos = data['results'] # es una lista donde cada elemento es un diccionario que contiene la info de un producto.\n",
    "# cada diccionario tiene 33 elementos donde se detalla si acepta MP, la condicion del producto, el precio, el link, el titulo, etc. \n",
    "\n",
    "# Genero un diccionario vacio donde lo ire rellenando agregando el nombre, el link del producto y el precios:\n",
    "data_productos = {} \n",
    "\n",
    "# Loop para rellenar el diccionario con nombre del producto, link y precio:\n",
    "for i, producto in enumerate(productos): # i es indice de cada producto en la lista y producto es un diccionario con la data de cada producto\n",
    "    #relleno el diccionario que tiene el nombre, el link del producto y el precio de todos los productos\n",
    "    data_productos[i] = {\n",
    "        'titulo': producto['title'],\n",
    "        'precio': producto['price'],\n",
    "        'link': producto['permalink']\n",
    "    } \n",
    "\n",
    "# Paso el diccionario a dataframe:\n",
    "import pandas as pd \n",
    "df_productos = pd.DataFrame.from_dict(data_productos, orient='index') \n",
    "\n",
    "# Calculo el precio promedio, el precio minimo y el precio maximo:\n",
    "precio_promedio = df_productos['precio'].mean()\n",
    "precio_minimo = df_productos['precio'].min()\n",
    "precio_maximo = df_productos['precio'].max() \n",
    "\n",
    "# Mostramos los resultados:\n",
    "print(\"El precio promedio es $\", round(precio_promedio))\n",
    "print(\"El precio mínimo es $\", round(precio_minimo))\n",
    "print(\"El precio máximo es $\", round(precio_maximo))"
   ]
  },
  {
   "cell_type": "markdown",
   "metadata": {},
   "source": [
    "#### Ejercicio 3\n",
    "Armen un histograma de los precios usando Matplotlib. ¿Ven algún <i>outlier<i>? "
   ]
  },
  {
   "cell_type": "code",
   "execution_count": 16,
   "metadata": {},
   "outputs": [
    {
     "data": {
      "image/png": "[encoded data removed]",
      "text/plain": [
       "<Figure size 640x480 with 1 Axes>"
      ]
     },
     "metadata": {},
     "output_type": "display_data"
    },
    {
     "name": "stdout",
     "output_type": "stream",
     "text": [
      "                                               titulo    precio  \\\n",
      "25  Giorgio Armani My Way Edp 90 ml Para  Mujer Re...  212000.0   \n",
      "8      Lancôme La Vie Est Belle Edp 75 ml Para  Mujer  192685.0   \n",
      "15  Perfume Cacharel Anais Anais Eau De Toilette 1...   99054.0   \n",
      "\n",
      "                                                 link  \n",
      "25  https://www.mercadolibre.com.ar/giorgio-armani...  \n",
      "8   https://www.mercadolibre.com.ar/lancme-la-vie-...  \n",
      "15  https://www.mercadolibre.com.ar/perfume-cachar...  \n"
     ]
    }
   ],
   "source": [
    "# Importo libreria:\n",
    "import matplotlib.pyplot as plt\n",
    "\n",
    "# Creo histograma:\n",
    "plt.hist(df_productos['precio'], bins=10, edgecolor='black')\n",
    "\n",
    "#Titulo y ejes:\n",
    "plt.title('Distribución de Precios de perfumes de mujer')\n",
    "plt.xlabel('Precio')\n",
    "plt.ylabel('Frecuencia')\n",
    "\n",
    "#Mostramos el histograma\n",
    "plt.show()\n",
    "\n",
    "# Identifiquemos a los outliers, las observaciones que estan en la cola derecha de la distribucion (los perfumes mas caros)\n",
    "# Ordenemos el dataframe por orden descentente de precios:\n",
    "df_ordenado = df_productos.sort_values(by='precio', ascending=False) \n",
    "print(df_ordenado.head(3))\n",
    "\n",
    "# Los perfumes mas caros (outliers) pertenecen a marcas como Paco Rabanne, Lancôme La Vie y Giorgio Armani\n"
   ]
  },
  {
   "cell_type": "markdown",
   "metadata": {},
   "source": [
    "#### Ejercicio 4\n",
    "Realicen alguna consulta adicional utilizando la API de Mercado Libre (debe ser alguna consulta que no se haya visto en clase. Por ejemplo, obtener los ítems de un vendedor en particular, obtener los productos de una categoría u otros). Analicen los resultados y comenten dos que les parezcan interesantes (por ejemplo, precios promedio de los productos de un vendedor, diferencia entre el precio original y actual, si acepta mercado pago para la compra de productos, etc.) "
   ]
  },
  {
   "cell_type": "code",
   "execution_count": 18,
   "metadata": {},
   "outputs": [
    {
     "name": "stdout",
     "output_type": "stream",
     "text": [
      "                                            Producto   Precio  \\\n",
      "0  Sérum L'oréal Paris Revitalift Ácido Hialuróni...  22540.0   \n",
      "1  Ácido Hialurónico Sérum De Ojos L'oréal Paris ...  17955.0   \n",
      "2  Gel Crema L´oréal Paris Revitalift Ácido Hialu...  16730.0   \n",
      "3  Corrector De Ojeras Maybelline Instant Age Rew...  13519.8   \n",
      "4  Banderas King Of Seduction Absolute 100ml Para...  38850.0   \n",
      "\n",
      "   Acepta Mercado Pago  \n",
      "0                 True  \n",
      "1                 True  \n",
      "2                 True  \n",
      "3                 True  \n",
      "4                 True  \n"
     ]
    }
   ],
   "source": [
    "#Para este ejercicio, vamos a analizar las ventas por el seller ID\n",
    "\n",
    "# Definir el `seller_id` de un vendedor al azar que agarramos de los resultados obtenidos anteriormente\n",
    "seller_id = \"261745655\"  # Reemplaza por el `seller_id` correcto\n",
    "\n",
    "# Construir la URL \n",
    "url = \"https://api.mercadolibre.com/sites/{}/search?seller_id={}\".format(\"MLA\", seller_id)\n",
    "\n",
    "# Realizar la solicitud a la API de Mercado Libre\n",
    "response = requests.get(url)\n",
    "data = response.json()\n",
    "\n",
    "# En segundo lugar, creamos listas vacías para almacenar datos de interés\n",
    "productos = []\n",
    "precios = []\n",
    "mercado_pago_aceptado = []\n",
    "\n",
    "# Iterar sobre los resultados y extraer el nombre, precio, y si acepta Mercado Pago\n",
    "for item in data['results']:\n",
    "    productos.append(item['title'])\n",
    "    precios.append(item['price'])\n",
    "    mercado_pago_aceptado.append(item['accepts_mercadopago'])\n",
    "\n",
    "# Crear un DataFrame con la información\n",
    "df = pd.DataFrame({\n",
    "    'Producto': productos,\n",
    "    'Precio': precios,\n",
    "    'Acepta Mercado Pago': mercado_pago_aceptado,\n",
    "})\n",
    "\n",
    "print(df.head())\n",
    "\n",
    "#Lo interesante de realizar este ejercicio, es que podemos ver el detalle de todos los productos que vende un seller determinado, \n",
    "#y analizar todas las variables relevantes. En este caso, este seller vende 5 productos, y en todos los casos acepta mercado pago. "
   ]
  },
  {
   "cell_type": "markdown",
   "metadata": {},
   "source": [
    "### Parte B"
   ]
  },
  {
   "cell_type": "markdown",
   "metadata": {},
   "source": [
    "#### Ejercicio 5\n",
    "De la página de noticias del [diario La Nación](https://www.lanacion.com.ar/), utilicen herramientas de web scraping para obtener los links de las noticias de la portada. Guarden los links obtenidos en un dataframe y expórtenlo a un archivo de excel.\n",
    "\n",
    "Nota 1: es posible que logren obtener los links a las noticias sin el dominio: \"https://www.lanacion.com.ar/\". De ser así, concatenen el dominio a la ruta del link obtenido, tal que se obtenga un link al que se pueda acceder. Es decir, que las cadenas de caracteres finales tendrán la forma: https://www.lanacion.com.ar/*texto_obtenido*)\n",
    "\n",
    "Nota 2: junto con su entrega, adjunten una captura de la página de noticias al momento de correr su código. Eso servirá al momento de la corrección para verificar que los links obtenidos hacen referencia a las noticias de ese día y hora."
   ]
  },
  {
   "cell_type": "code",
   "execution_count": null,
   "metadata": {},
   "outputs": [],
   "source": [
    "url = \"https://www.lanacion.com.ar/\"\n",
    "\n",
    "r = requests.get(url)  # Traemos el contenido del HTML\n",
    "contenido = r.content\n",
    "soup = BeautifulSoup(contenido, \"html.parser\")"
   ]
  },
  {
   "cell_type": "code",
   "execution_count": null,
   "metadata": {},
   "outputs": [],
   "source": [
    "# Dentro de la sopa, buscamos todos los elementos <a>\n",
    "a_elements = soup.find_all('a', class_='link ln-link flex flex-column --unstyled')\n",
    "\n",
    "# Creamos una lista para guardar los links\n",
    "links = []\n",
    "\n",
    "# Extraemos los links (atributo href) y los guardamos\n",
    "for a_element in a_elements:\n",
    "    href = a_element.get('href')  # Extraemos el atributo href\n",
    "    if href:  # Verificamos si href no es None\n",
    "        # Concatenamos el dominio si es necesario\n",
    "        if not href.startswith('http'):\n",
    "            href = \"https://www.lanacion.com.ar\" + href\n",
    "        \n",
    "        links.append({\n",
    "            'Link': href  # Guardamos el link\n",
    "        })\n",
    "\n",
    "# Creamos un dataframe a partir de la lista de links\n",
    "links_df = pd.DataFrame(links)"
   ]
  },
  {
   "cell_type": "code",
   "execution_count": null,
   "metadata": {},
   "outputs": [],
   "source": [
    "links_df"
   ]
  },
  {
   "cell_type": "code",
   "execution_count": null,
   "metadata": {},
   "outputs": [],
   "source": [
    "# Exportamos el dataframe a un archivo Excel\n",
    "links_df.to_excel(\"links_lanacion.xlsx\", index=False)"
   ]
  }
 ],
 "metadata": {
  "anaconda-cloud": {},
  "colab": {
   "name": "TP1 - Parte 1.ipynb",
   "provenance": []
  },
  "kernelspec": {
   "display_name": "Python 3 (ipykernel)",
   "language": "python",
   "name": "python3"
  },
  "language_info": {
   "codemirror_mode": {
    "name": "ipython",
    "version": 3
   },
   "file_extension": ".py",
   "mimetype": "text/x-python",
   "name": "python",
   "nbconvert_exporter": "python",
   "pygments_lexer": "ipython3",
   "version": "3.11.7"
  }
 },
 "nbformat": 4,
 "nbformat_minor": 4
}
