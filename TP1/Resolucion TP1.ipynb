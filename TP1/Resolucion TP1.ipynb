{
 "cells": [
  {
   "cell_type": "markdown",
   "id": "7f1def88-b00f-4ad1-920b-3d89280bc615",
   "metadata": {},
   "source": [
    "Machine Learning para Economistas\n",
    "Trabajo Práctico 1"
   ]
  },
  {
   "cell_type": "markdown",
   "id": "dd6f2b6c-733e-4ff2-b083-2b346e5931da",
   "metadata": {},
   "source": [
    "Ejercicio 1\n",
    "Este ejercicio simplemente busca repasar lo que aprendimos sobre definición de variables. \n",
    "Definir dos variables con un nombre combinado (al menos dos palabras), una que se pueda crear y otra que tenga un nombre inaceptable (genera error).\n",
    "Explicar por qué ocurre el error."
   ]
  },
  {
   "cell_type": "code",
   "execution_count": 11,
   "id": "b71b5d0a-d57c-4858-bfc0-9895b51a4f14",
   "metadata": {
    "scrolled": true
   },
   "outputs": [
    {
     "ename": "SyntaxError",
     "evalue": "cannot assign to False (794480795.py, line 6)",
     "output_type": "error",
     "traceback": [
      "\u001b[1;36m  Cell \u001b[1;32mIn[11], line 6\u001b[1;36m\u001b[0m\n\u001b[1;33m    False = \"b\"\u001b[0m\n\u001b[1;37m    ^\u001b[0m\n\u001b[1;31mSyntaxError\u001b[0m\u001b[1;31m:\u001b[0m cannot assign to False\n"
     ]
    }
   ],
   "source": [
    "#Caso A. Creo una variable cualquiera\n",
    "mi_variable = \"a\"\n",
    "print(mi_variable)\n",
    "\n",
    "#Caso B. Creo una variable no permitida. Esto sucede porque estamos utilizando un nombre no permitido por la herramienta\n",
    "False = \"b\"\n",
    "print(False)\n"
   ]
  },
  {
   "cell_type": "markdown",
   "id": "3ad45115-e5d6-4c8a-a06e-1e5a95e6d41f",
   "metadata": {},
   "source": [
    "Ejercicio 2\n",
    "Importar módulos. Usando el módulo math impriman la tangente de 1.\n",
    "¿Cuál es el resultado? Hagan este cálculo de dos formas: primero importando el módulo math y usando la función correspondiente y luego solo importando la función específica que precisan para el cálculo."
   ]
  },
  {
   "cell_type": "code",
   "execution_count": 16,
   "id": "bb94c280-e0a4-44e0-a177-f7fb60a554ab",
   "metadata": {},
   "outputs": [],
   "source": [
    "import math"
   ]
  },
  {
   "cell_type": "code",
   "execution_count": 22,
   "id": "eae38d19-83b8-4d17-b9cc-f0a4b3d4f127",
   "metadata": {},
   "outputs": [
    {
     "name": "stdout",
     "output_type": "stream",
     "text": [
      "Tangente de 1: 1.5574077246549023\n"
     ]
    }
   ],
   "source": [
    "# Calcular la tangente de 1 usando el módulo math\n",
    "resultado = math.tan(1)\n",
    "print(\"Tangente de 1:\", resultado)\n"
   ]
  },
  {
   "cell_type": "code",
   "execution_count": 24,
   "id": "907de970-8ab6-4dfb-bbd3-4fe8b018363e",
   "metadata": {},
   "outputs": [
    {
     "name": "stdout",
     "output_type": "stream",
     "text": [
      "1.5574077246549023\n"
     ]
    }
   ],
   "source": [
    "#Segunda forma\n",
    "from math import tan\n",
    "print(tan(1))"
   ]
  },
  {
   "cell_type": "markdown",
   "id": "aff194d5-2a74-4054-936e-004931cf9645",
   "metadata": {},
   "source": [
    "Ejercicio 3\n",
    "Este ejercicio trata sobre lograr el intercambio de valores entre dos variables utilizando una variable temporal para hacerlo. Las variables temporales y la sustitución de valores termina siendo útil en algunos loops. Los pasos a seguir son: (a) definir variables A y B (cuyos valores buscaremos invertir); (b) definir una variable temporal que resguarde el valor de B; (c) sustitución (asignar B igual a A y también A igual al valor original de B); (d) imprimir valores para verificar."
   ]
  },
  {
   "cell_type": "code",
   "execution_count": 28,
   "id": "05dc9f06-07d8-4f88-b570-6961f34900d0",
   "metadata": {},
   "outputs": [
    {
     "name": "stdout",
     "output_type": "stream",
     "text": [
      "Valores originales:\n",
      "a = 1\n",
      "b = 2\n"
     ]
    }
   ],
   "source": [
    "#Primero creamos las variables a y b, y les asignamos dos valores aleatorios. \n",
    "a = 1\n",
    "b = 2\n",
    "\n",
    "print(\"Valores originales:\")\n",
    "print(\"a =\", a)\n",
    "print(\"b =\", b)"
   ]
  },
  {
   "cell_type": "code",
   "execution_count": 34,
   "id": "f87163b1-406b-4f0e-81fa-49c720081f5f",
   "metadata": {},
   "outputs": [
    {
     "name": "stdout",
     "output_type": "stream",
     "text": [
      "Valores después del intercambio:\n",
      "a = 2\n",
      "b = 1\n"
     ]
    }
   ],
   "source": [
    "#Luego, definimos lo que es una variable temporal. \n",
    "temporal = b\n",
    "\n",
    "b = a\n",
    "a = temporal\n",
    "\n",
    "print(\"Valores después del intercambio:\")\n",
    "print(\"a =\", a)\n",
    "print(\"b =\", b)"
   ]
  },
  {
   "cell_type": "markdown",
   "id": "99ed72d3-19ba-46f7-b47c-94440897507f",
   "metadata": {},
   "source": [
    "Ejercicio 4\n",
    "En este ejercicio se busca poner en práctica el uso de range() en un for loop.\n",
    "\n",
    "Construir un for loop usando un range(). El range debe ser entre los valores que quieran (con una diferencia mínima de 15 entre start y stop), en incrementos de 3 unidades. Dentro del loop, implementar una sentencia condicional que imprima una leyenda indicando si el input es par o impar."
   ]
  },
  {
   "cell_type": "code",
   "execution_count": 39,
   "id": "caa5696a-6b2b-48ee-87fd-8967437d4444",
   "metadata": {},
   "outputs": [
    {
     "name": "stdout",
     "output_type": "stream",
     "text": [
      "10 es par\n",
      "13 es impar\n",
      "16 es par\n",
      "19 es impar\n"
     ]
    }
   ],
   "source": [
    "# Paso 1: Crear el rango con una diferencia mínima de 15 entre start y stop, en incrementos de 3\n",
    "for num in range(10, 20, 3):  # Esto irá desde 10 hasta 30, en incrementos de 3\n",
    "    \n",
    "# Paso 2: Implementar la sentencia condicional para verificar si es par o impar\n",
    "    if num % 2 == 0:\n",
    "        print(f\"{num} es par\")\n",
    "    else:\n",
    "        print(f\"{num} es impar\")\n"
   ]
  },
  {
   "cell_type": "markdown",
   "id": "59596eac-5527-4179-bcdb-c2b288cfb32e",
   "metadata": {},
   "source": [
    "Ejercicio 5\n",
    "Para practicar el uso de condiciones lógicas y la definición de funciones, construir una función con una sentencia condicional que verifique si un año es bisiesto o no. Para que un año sea bisiesto debe cumplir una de dos condiciones:\n",
    "\n",
    "(a) que sea divisible por 400; o\n",
    "\n",
    "(b) que sea divisible por 4 y no sea divisible por 100\n",
    "\n",
    "Notar que son dos condiciones, donde la segunda condición tiene dos componentes. Prueben la función con 3 valores para verificar que funcione."
   ]
  },
  {
   "cell_type": "code",
   "execution_count": 41,
   "id": "64d0e4b6-a4cc-4085-bc76-aa00ab3fa916",
   "metadata": {},
   "outputs": [
    {
     "name": "stdout",
     "output_type": "stream",
     "text": [
      "True\n",
      "False\n",
      "True\n"
     ]
    }
   ],
   "source": [
    "# Definir la función que verifica si un año es bisiesto\n",
    "def es_bisiesto(año):\n",
    "    # Condición (a): divisible por 400\n",
    "    if año % 400 == 0:\n",
    "        return True\n",
    "    # Condición (b): divisible por 4 y no divisible por 100\n",
    "    elif año % 4 == 0 and año % 100 != 0:\n",
    "        return True\n",
    "    # Si no cumple ninguna de las dos condiciones, no es bisiesto\n",
    "    else:\n",
    "        return False\n",
    "\n",
    "# Probar la función con 3 valores\n",
    "print(es_bisiesto(2020))  # True, es bisiesto\n",
    "print(es_bisiesto(1900))  # False, no es bisiesto (divisible por 100 pero no por 400)\n",
    "print(es_bisiesto(2000))  # True, es bisiesto (divisible por 400)\n"
   ]
  },
  {
   "cell_type": "markdown",
   "id": "7c03b963-3e15-4dbe-905a-13a92d0464d1",
   "metadata": {},
   "source": [
    "Ejercicio 6\n",
    "Pongamos en práctica identificar el type() de cada variable. A continuación tenemos una lista con elementos de diferentes tipos. Construyan un for loop que itere sobre la lista e imprima un cartel indicando el tipo de dato u objeto que hay en cada caso."
   ]
  },
  {
   "cell_type": "code",
   "execution_count": 46,
   "id": "7334f758-c0f1-4574-8160-dd1ade11f311",
   "metadata": {},
   "outputs": [
    {
     "name": "stdout",
     "output_type": "stream",
     "text": [
      "El elemento 42 es de tipo <class 'int'>\n",
      "El elemento 3.14 es de tipo <class 'float'>\n",
      "El elemento hola es de tipo <class 'str'>\n",
      "El elemento True es de tipo <class 'bool'>\n",
      "El elemento [1, 2, 3] es de tipo <class 'list'>\n",
      "El elemento (4, 5) es de tipo <class 'tuple'>\n",
      "El elemento {'clave': 'valor'} es de tipo <class 'dict'>\n",
      "El elemento None es de tipo <class 'NoneType'>\n"
     ]
    }
   ],
   "source": [
    "# Lista con elementos de diferentes tipos\n",
    "elementos = [42, 3.14, \"hola\", True, [1, 2, 3], (4, 5), {'clave': 'valor'}, None]\n",
    "\n",
    "# Bucle for que itera sobre cada elemento de la lista\n",
    "for elemento in elementos:\n",
    "    print(f\"El elemento {elemento} es de tipo {type(elemento)}\")"
   ]
  },
  {
   "cell_type": "markdown",
   "id": "f40dc15e-30b9-491b-a829-9a1e5b98c5cd",
   "metadata": {},
   "source": [
    "Ejercicio 7\n",
    "Ahora definan ustedes una nueva lista, en la que los primeros cuatro elementos sean palabras (strings), el quinto elemento no sea string, y el sexto sea string. Construyan un for loop que corra por la lista y que imprima la palabra y la longitud de la misma. Que el loop contenga una sentencia condicional que imprima un cartel \"Elemento no es un string: < el elemento > | < class del elemento >\" para los casos dónde el elemento evaluado no sea string."
   ]
  },
  {
   "cell_type": "code",
   "execution_count": 48,
   "id": "07ea99a4-ea40-49c9-84c5-63aea05d53d0",
   "metadata": {},
   "outputs": [
    {
     "name": "stdout",
     "output_type": "stream",
     "text": [
      "'uno' tiene 3 caracteres.\n",
      "'dos' tiene 3 caracteres.\n",
      "'tres' tiene 4 caracteres.\n",
      "'cuatro' tiene 6 caracteres.\n",
      "No es un string: 5 | <class 'int'>\n",
      "'seis' tiene 4 caracteres.\n"
     ]
    }
   ],
   "source": [
    "#Defino nueva lista\n",
    "mi_lista = [\"uno\", \"dos\", \"tres\", \"cuatro\", 5, \"seis\"]\n",
    "# Bucle \n",
    "for elemento in mi_lista:\n",
    "    # Verificar si el elemento es un string\n",
    "    if isinstance(elemento, str):\n",
    "        # Imprimir la palabra y su longitud\n",
    "        print(f\"'{elemento}' tiene {len(elemento)} caracteres.\")\n",
    "    else:\n",
    "        # Imprimir cartel si no es un string\n",
    "        print(f\"No es un string: {elemento} | {type(elemento)}\")"
   ]
  },
  {
   "cell_type": "code",
   "execution_count": null,
   "id": "d5fe803d-5a67-4f25-807c-b35071d2e82f",
   "metadata": {},
   "outputs": [],
   "source": []
  }
 ],
 "metadata": {
  "kernelspec": {
   "display_name": "Python 3 (ipykernel)",
   "language": "python",
   "name": "python3"
  },
  "language_info": {
   "codemirror_mode": {
    "name": "ipython",
    "version": 3
   },
   "file_extension": ".py",
   "mimetype": "text/x-python",
   "name": "python",
   "nbconvert_exporter": "python",
   "pygments_lexer": "ipython3",
   "version": "3.12.4"
  }
 },
 "nbformat": 4,
 "nbformat_minor": 5
}
